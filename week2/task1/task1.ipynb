{
 "cells": [
  {
   "cell_type": "markdown",
   "id": "exterior-ghost",
   "metadata": {},
   "source": [
    "# №1"
   ]
  },
  {
   "cell_type": "code",
   "execution_count": 9,
   "id": "consistent-article",
   "metadata": {},
   "outputs": [],
   "source": [
    "import numpy as np\n",
    "import re"
   ]
  },
  {
   "cell_type": "code",
   "execution_count": 14,
   "id": "hollywood-clinic",
   "metadata": {},
   "outputs": [],
   "source": [
    "# f = open('sentences.txt', 'r')\n",
    "# text = []\n",
    "# for x in f.read():\n",
    "#     y = x.lower()\n",
    "#     f1 = open('lower_text.txt', 'a')\n",
    "#     f1.write(y)\n"
   ]
  },
  {
   "cell_type": "code",
   "execution_count": 18,
   "id": "unexpected-finding",
   "metadata": {},
   "outputs": [],
   "source": [
    "with open('sentences.txt') as infile, open('lower_text.txt', 'w') as outfile:\n",
    "    for line in infile:\n",
    "        outfile.write('\\n' + line.lower())"
   ]
  },
  {
   "cell_type": "code",
   "execution_count": null,
   "id": "strong-honolulu",
   "metadata": {},
   "outputs": [],
   "source": []
  }
 ],
 "metadata": {
  "kernelspec": {
   "display_name": "Python 3",
   "language": "python",
   "name": "python3"
  },
  "language_info": {
   "codemirror_mode": {
    "name": "ipython",
    "version": 3
   },
   "file_extension": ".py",
   "mimetype": "text/x-python",
   "name": "python",
   "nbconvert_exporter": "python",
   "pygments_lexer": "ipython3",
   "version": "3.9.2"
  }
 },
 "nbformat": 4,
 "nbformat_minor": 5
}
