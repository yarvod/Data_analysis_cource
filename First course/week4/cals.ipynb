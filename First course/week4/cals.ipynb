{
 "cells": [
  {
   "cell_type": "code",
   "execution_count": 2,
   "id": "fancy-filename",
   "metadata": {},
   "outputs": [],
   "source": [
    "import numpy as np\n",
    "import math"
   ]
  },
  {
   "cell_type": "code",
   "execution_count": 21,
   "id": "ultimate-adult",
   "metadata": {},
   "outputs": [],
   "source": [
    "def pois(k,lam):\n",
    "    return (lam**k /math.factorial(k)) * np.exp(-lam)"
   ]
  },
  {
   "cell_type": "code",
   "execution_count": 37,
   "id": "romance-reasoning",
   "metadata": {},
   "outputs": [
    {
     "name": "stdout",
     "output_type": "stream",
     "text": [
      "0.18\n"
     ]
    }
   ],
   "source": [
    " # Вопрос 10\n",
    "# Предположим, что вы получаете в среднем три спам-письма в день. \n",
    "# Какова доля дней, в которые вы получаете пять или больше спам-писем? \n",
    "# Округлите до двух знаков после десятичной точки.\n",
    "\n",
    "su = 0\n",
    "for i in range(5):\n",
    "    su += pois(i,3)\n",
    "    \n",
    "print('%.2f'%(1-su))"
   ]
  },
  {
   "cell_type": "code",
   "execution_count": null,
   "id": "contemporary-block",
   "metadata": {},
   "outputs": [],
   "source": []
  },
  {
   "cell_type": "code",
   "execution_count": null,
   "id": "fifty-count",
   "metadata": {},
   "outputs": [],
   "source": []
  }
 ],
 "metadata": {
  "kernelspec": {
   "display_name": "Python 3",
   "language": "python",
   "name": "python3"
  },
  "language_info": {
   "codemirror_mode": {
    "name": "ipython",
    "version": 3
   },
   "file_extension": ".py",
   "mimetype": "text/x-python",
   "name": "python",
   "nbconvert_exporter": "python",
   "pygments_lexer": "ipython3",
   "version": "3.9.2"
  }
 },
 "nbformat": 4,
 "nbformat_minor": 5
}
