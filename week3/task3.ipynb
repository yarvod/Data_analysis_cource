{
 "cells": [
  {
   "cell_type": "code",
   "execution_count": 21,
   "id": "wireless-opportunity",
   "metadata": {},
   "outputs": [],
   "source": [
    "import numpy as np\n",
    "from matplotlib import pyplot as plt\n",
    "from scipy.optimize import minimize\n",
    "from scipy.optimize import differential_evolution"
   ]
  },
  {
   "cell_type": "code",
   "execution_count": 22,
   "id": "reserved-analysis",
   "metadata": {},
   "outputs": [],
   "source": [
    "def h(x):\n",
    "    return int(np.sin(x / 5) * np.exp(x / 10) + 5 * np.exp(-x / 2))\n",
    "dots = np.arange(0, 30+0.0001, 0.01)"
   ]
  },
  {
   "cell_type": "markdown",
   "id": "pregnant-bandwidth",
   "metadata": {},
   "source": [
    "# task3 : optimization not smooth function"
   ]
  },
  {
   "cell_type": "code",
   "execution_count": 16,
   "id": "small-module",
   "metadata": {},
   "outputs": [
    {
     "data": {
      "image/png": "[encoded data removed]",
      "text/plain": [
       "<Figure size 720x432 with 1 Axes>"
      ]
     },
     "metadata": {
      "needs_background": "light"
     },
     "output_type": "display_data"
    }
   ],
   "source": [
    "plt.figure(figsize = (10,6))\n",
    "plt.plot(dots, np.vectorize(h)(dots))\n",
    "# plt.scatter(dots, np.vectorize(h)(dots))\n",
    "plt.legend(['not smooth function'])\n",
    "plt.show()\n",
    "\n",
    "# функция имеет разрывы"
   ]
  },
  {
   "cell_type": "code",
   "execution_count": 19,
   "id": "surprising-hometown",
   "metadata": {},
   "outputs": [
    {
     "data": {
      "text/plain": [
       "      fun: -5\n",
       " hess_inv: array([[1]])\n",
       "      jac: array([0.])\n",
       "  message: 'Optimization terminated successfully.'\n",
       "     nfev: 2\n",
       "      nit: 0\n",
       "     njev: 1\n",
       "   status: 0\n",
       "  success: True\n",
       "        x: array([30.])"
      ]
     },
     "execution_count": 19,
     "metadata": {},
     "output_type": "execute_result"
    }
   ],
   "source": [
    "# попробуем найти с помощью градиентного спуска методом BFGS\n",
    "\n",
    "res1 = minimize(h, x0 = 30, method = 'BFGS')\n",
    "answ1 = res1['fun']\n",
    "res1"
   ]
  },
  {
   "cell_type": "code",
   "execution_count": 25,
   "id": "occasional-circumstances",
   "metadata": {},
   "outputs": [
    {
     "data": {
      "text/plain": [
       "     fun: -11.0\n",
       " message: 'Optimization terminated successfully.'\n",
       "    nfev: 137\n",
       "     nit: 8\n",
       " success: True\n",
       "       x: array([24.33788064])"
      ]
     },
     "execution_count": 25,
     "metadata": {},
     "output_type": "execute_result"
    }
   ],
   "source": [
    "# попробуем найти минимум с помощью дифференциальной эволлюции\n",
    "\n",
    "res2 = differential_evolution(h, [(1,30)])\n",
    "answ2 = res2['fun']\n",
    "res2"
   ]
  },
  {
   "cell_type": "code",
   "execution_count": 26,
   "id": "american-tumor",
   "metadata": {},
   "outputs": [],
   "source": [
    "with open('submission_3.txt', 'w') as file:\n",
    "    file.write('{}'.format(answ1) + ' ' + '{}'.format(answ2))"
   ]
  },
  {
   "cell_type": "code",
   "execution_count": null,
   "id": "liquid-workplace",
   "metadata": {},
   "outputs": [],
   "source": []
  }
 ],
 "metadata": {
  "kernelspec": {
   "display_name": "Python 3",
   "language": "python",
   "name": "python3"
  },
  "language_info": {
   "codemirror_mode": {
    "name": "ipython",
    "version": 3
   },
   "file_extension": ".py",
   "mimetype": "text/x-python",
   "name": "python",
   "nbconvert_exporter": "python",
   "pygments_lexer": "ipython3",
   "version": "3.9.2"
  }
 },
 "nbformat": 4,
 "nbformat_minor": 5
}
